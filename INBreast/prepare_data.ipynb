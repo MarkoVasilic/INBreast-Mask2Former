{
 "cells": [
  {
   "cell_type": "code",
   "execution_count": 1,
   "metadata": {},
   "outputs": [],
   "source": [
    "import os\n",
    "from PIL import Image\n",
    "import numpy as np\n",
    "import math\n",
    "import pydicom as pdcm\n",
    "from skimage.draw import polygon\n",
    "import xml.etree.ElementTree as ET\n",
    "from matplotlib import pyplot as plt\n",
    "import random\n",
    "import shutil"
   ]
  },
  {
   "cell_type": "code",
   "execution_count": 2,
   "metadata": {},
   "outputs": [],
   "source": [
    "class Annotation:\n",
    "  \n",
    "  def __init__(self, xml_path, filename, shape):\n",
    "\n",
    "    self.xml_path = xml_path + filename + '.xml'\n",
    "    self.mask     = self.create_mask_array(shape)\n",
    "    self.fill_mask()\n",
    "\n",
    "\n",
    "  \"\"\"\n",
    "  This function creates the proper contour/polygon for each ROI and stores\n",
    "  the information in the corresponding position of the mask object\n",
    "  \"\"\"\n",
    "  def fill_mask(self):\n",
    "    if os.path.exists(self.xml_path):\n",
    "      rois, num_rois   = self.parse_XML(self.xml_path)\n",
    "      for roi in rois:\n",
    "        roi_info       = self.get_roi_info(roi)\n",
    "        r_poly, c_poly = self.create_polygon_lists(self.mask, roi_info[\"points\"])\n",
    "        rr, cc         = polygon(r_poly, c_poly)\n",
    "        roi_channel    = self.select_mask_channel(roi_info[\"roi_type\"])\n",
    "        try:\n",
    "          self.mask[rr, cc, roi_channel] = 1\n",
    "        except IndexError:\n",
    "          print(self.xml_path)\n",
    "\n",
    "\n",
    "  \"\"\"\n",
    "  Inputs:\n",
    "    -- xml_path: Path to the corresponding xml file\n",
    "  Outputs:\n",
    "    -- rois: Array with the ROI objects\n",
    "    -- num_of_rois: Number of ROIs \n",
    "  \"\"\"\n",
    "  def parse_XML(self, xml_path):\n",
    "    tree        = ET.parse(xml_path)\n",
    "    root        = tree.getroot()       # The root of the XML file\n",
    "    data        = root[0][1]           # The essential info\n",
    "    rois        = data[0][5]           # Array containing the ROI objects\n",
    "    num_of_rois = int(data[0][3].text) # Number of ROI objects\n",
    "\n",
    "    return rois, num_of_rois\n",
    "\n",
    "\n",
    "  \"\"\"\n",
    "  Inputs:\n",
    "    -- img_shape: The preferred shape of the mask to be created\n",
    "  Outputs:\n",
    "    -- 3-dimensional numpy array of type uint8 \n",
    "  \"\"\"\n",
    "  def create_mask_array(self,img_shape):\n",
    "    return np.zeros((img_shape[0], img_shape[1], 3), dtype = np.uint8)\n",
    "\n",
    "  def get_roi_info(self, roi):\n",
    "    roi_info      = {\n",
    "      \"points\":        roi[21],           # Array containing the points of a ROI\n",
    "      \"num_of_points\": int(roi[17].text), # Number of points of the area\n",
    "      \"roi_index\":     int(roi[7].text),  # Identifier of the ROI\n",
    "      \"roi_type\":      roi[15].text       # (Mass, Calcification, other)\n",
    "    }\n",
    "\n",
    "    return roi_info\n",
    "\n",
    "\n",
    "\n",
    "  \"\"\"\n",
    "  Inputs:\n",
    "    -- mask: numpy object of the mask\n",
    "    -- points: x-y coordinates of a ROI's points\n",
    "  Outputs:\n",
    "    -- r_poly: array containing the x-axis coordinates\n",
    "    -- c_poly: array containing the y-axis coordinates\n",
    "  \"\"\"\n",
    "  def create_polygon_lists(self, mask, points):\n",
    "    mask_width  = mask.shape[0]\n",
    "    mask_height = mask.shape[1]\n",
    "    r_poly      = np.array([])\n",
    "    c_poly      = np.array([])\n",
    "    roi_img     = np.zeros((mask_width, mask_height), dtype=np.uint8)\n",
    "\n",
    "    for point in points:\n",
    "\n",
    "      temp_tuple = point.text[1:-1].split(\",\")\n",
    "      y          = int(math.trunc(float(temp_tuple[0]))) \n",
    "      x          = int(math.trunc(float(temp_tuple[1])))\n",
    "      r_poly     = np.append(r_poly, x)\n",
    "      c_poly     = np.append(c_poly, y)\n",
    "\n",
    "    return r_poly, c_poly\n",
    "\n",
    "\n",
    "  \"\"\"\n",
    "  Input:\n",
    "    -- roi_type: The type of a specific ROI, extracted from the XML file\n",
    "  Output:\n",
    "    -- roi_channel: The type of the ROI defines the integer value of this var\n",
    "  \"\"\"\n",
    "  def select_mask_channel(self, roi_type):\n",
    "    roi_ch = 2\n",
    "    if roi_type == \"Mass\":\n",
    "      roi_ch = 0\n",
    "    elif roi_type == \"Calcification\":\n",
    "      roi_ch = 1\n",
    "    return roi_ch"
   ]
  },
  {
   "cell_type": "code",
   "execution_count": 5,
   "metadata": {},
   "outputs": [],
   "source": [
    "XML_PATH = \"./INBreast/AllXML/\"\n",
    "DCM_PATH = \"./INBreast/AllDICOMs/\""
   ]
  },
  {
   "cell_type": "markdown",
   "metadata": {},
   "source": [
    "Rename file names to keep only patient ids in them"
   ]
  },
  {
   "cell_type": "code",
   "execution_count": 10,
   "metadata": {},
   "outputs": [
    {
     "name": "stdout",
     "output_type": "stream",
     "text": [
      "Files renamed successfully.\n"
     ]
    }
   ],
   "source": [
    "import os\n",
    "\n",
    "# List all files in the folder\n",
    "files = os.listdir(DCM_PATH)\n",
    "\n",
    "# Iterate through each file and rename it\n",
    "for file_name in files:\n",
    "    if file_name.endswith('.dcm'):\n",
    "        # Extract the first part of the filename before the underscore\n",
    "        new_name = file_name.split('_')[0] + \"_\" + file_name.split('_')[1] + '.dcm'\n",
    "\n",
    "        # Create the full path for the old and new filenames\n",
    "        old_path = os.path.join(DCM_PATH, file_name)\n",
    "        new_path = os.path.join(DCM_PATH, new_name)\n",
    "\n",
    "        # Rename the file\n",
    "        os.rename(old_path, new_path)\n",
    "\n",
    "print(\"Files renamed successfully.\")\n"
   ]
  },
  {
   "cell_type": "markdown",
   "metadata": {},
   "source": [
    "Define folder structure where extracted images will be saved"
   ]
  },
  {
   "cell_type": "code",
   "execution_count": 11,
   "metadata": {},
   "outputs": [],
   "source": [
    "inbreast_path = './Extracted'\n",
    "images_output_path = './Extracted/images'\n",
    "labels_output_path = './Extracted/labels'"
   ]
  },
  {
   "cell_type": "code",
   "execution_count": 12,
   "metadata": {},
   "outputs": [],
   "source": [
    "if not os.path.exists(inbreast_path):\n",
    "    os.makedirs(inbreast_path)\n",
    "if not os.path.exists(images_output_path):\n",
    "    os.makedirs(images_output_path)\n",
    "if not os.path.exists(labels_output_path):\n",
    "    os.makedirs(labels_output_path)"
   ]
  },
  {
   "cell_type": "markdown",
   "metadata": {},
   "source": [
    "Define palette for each class (None, Mass)"
   ]
  },
  {
   "cell_type": "code",
   "execution_count": 13,
   "metadata": {},
   "outputs": [],
   "source": [
    "palette = ([0,0,0],[255,0,0])"
   ]
  },
  {
   "cell_type": "markdown",
   "metadata": {},
   "source": [
    "Extract images and masks"
   ]
  },
  {
   "cell_type": "code",
   "execution_count": null,
   "metadata": {},
   "outputs": [],
   "source": [
    "for img_name in os.listdir(DCM_PATH):\n",
    "    img_name = img_name.split('.')[0]\n",
    "    mask_img_name = img_name.split('_')[0]\n",
    "    dcm = pdcm.dcmread(DCM_PATH + img_name + '.dcm')\n",
    "    img = dcm.pixel_array\n",
    "    a = Annotation(XML_PATH, mask_img_name, img.shape)\n",
    "\n",
    "    all_zeroes_0 = np.all(a.mask[:,:,0] == 0)\n",
    "\n",
    "    if all_zeroes_0:\n",
    "        continue\n",
    "    \n",
    "    mask = a.mask[:,:,0]\n",
    "\n",
    "    # Create an image from the array\n",
    "    mask = Image.fromarray(mask)\n",
    "\n",
    "    mask.save(os.path.join(labels_output_path, img_name + '.png'))\n",
    "    img = img.astype(np.uint8)\n",
    "    img = Image.fromarray(img)\n",
    "\n",
    "    img.save(os.path.join(images_output_path, img_name + '.png'))"
   ]
  },
  {
   "cell_type": "markdown",
   "metadata": {},
   "source": [
    "Count number of images for each patient"
   ]
  },
  {
   "cell_type": "code",
   "execution_count": 15,
   "metadata": {},
   "outputs": [],
   "source": [
    "patient_num_of_files = {}\n",
    "for fn in os.listdir('./Extracted/images'):\n",
    "    patient_num_of_files[fn.split('_')[1]] = 0\n",
    "\n",
    "for fn in os.listdir('./Extracted/images'):\n",
    "    patient_num_of_files[fn.split('_')[1]] += 1   "
   ]
  },
  {
   "cell_type": "code",
   "execution_count": 16,
   "metadata": {},
   "outputs": [
    {
     "data": {
      "text/plain": [
       "{'6c613a14b80a8591.png': 4,\n",
       " 'f4b2d377f43ba0bd.png': 2,\n",
       " '81cd83d2f4d78528.png': 2,\n",
       " '8dbbd4e51f549ff0.png': 2,\n",
       " '024ee3569b2605dc.png': 2,\n",
       " '8d0b9620c53c0268.png': 2,\n",
       " '493155e17143edef.png': 2,\n",
       " 'bf1a6aaadb05e3df.png': 2,\n",
       " '036aff49b8ac84f0.png': 1,\n",
       " 'd713ef5849f98b6c.png': 2,\n",
       " 'bbd6a3a35438c11b.png': 2,\n",
       " '6200187f3f1ccc18.png': 2,\n",
       " '5530d5782fc89dd7.png': 2,\n",
       " '5eae9beae14d26fd.png': 4,\n",
       " 'fe7d005dcbbfb46d.png': 4,\n",
       " 'dcafa6ba6374ec07.png': 2,\n",
       " '45c7f44839fd9e68.png': 2,\n",
       " '6bd24a0a42c19ce1.png': 2,\n",
       " '1e5c3af078f74b05.png': 2,\n",
       " 'd065adcb9905b973.png': 2,\n",
       " '2dec4948fbe6336d.png': 2,\n",
       " 'e1f51192f7bf3f5f.png': 2,\n",
       " '98429c0bdf78c0c7.png': 2,\n",
       " '7e677f3d530e41ed.png': 2,\n",
       " 'e15a16f87b4f9782.png': 1,\n",
       " '0b7396cdccacca82.png': 2,\n",
       " '61b13c59bcba149e.png': 2,\n",
       " '64a22c47765f0c5c.png': 2,\n",
       " '1e10aef17c9fe149.png': 2,\n",
       " 'ac3185e18ffdc7b6.png': 4,\n",
       " 'c4b995eddb3c510c.png': 2,\n",
       " 'd8205a09c8173f44.png': 2,\n",
       " '5291e1aee2bbf5df.png': 2,\n",
       " 'fbb55bf7fff48540.png': 2,\n",
       " '349323117bf0fd93.png': 2,\n",
       " '6968748e66837bc7.png': 2,\n",
       " 'cc9e66c5b31baab8.png': 3,\n",
       " '0c735e8768d276b4.png': 2,\n",
       " '6aba0b402889a16f.png': 2,\n",
       " '97ec8cadfca70d32.png': 2,\n",
       " 'a78eba834ef6ee88.png': 2,\n",
       " 'f62fbf38fb208316.png': 2,\n",
       " '3f22cdda8da215e3.png': 2,\n",
       " '8c105bb715bf1c3c.png': 2,\n",
       " '51bec6477a7898b9.png': 2,\n",
       " 'b231a8ba4dd4214f.png': 2,\n",
       " '465aa5ec1b59efc6.png': 2,\n",
       " '6ac23356b912ee9b.png': 2,\n",
       " '809e3f43339f93c6.png': 2}"
      ]
     },
     "execution_count": 16,
     "metadata": {},
     "output_type": "execute_result"
    }
   ],
   "source": [
    "patient_num_of_files"
   ]
  },
  {
   "cell_type": "markdown",
   "metadata": {},
   "source": [
    "Create 5 subfolders for each cross validation split but images from one patient can only appear in one folder"
   ]
  },
  {
   "cell_type": "code",
   "execution_count": 17,
   "metadata": {},
   "outputs": [],
   "source": [
    "def move_random_images(img_source_folder, lab_source_folder, destination_folder_img, destination_folder_lab, num_images_to_move):\n",
    "    # Get a list of all files in the source folder\n",
    "    all_images = os.listdir(img_source_folder)\n",
    "    counter = 0\n",
    "    i = 0\n",
    "    # Move selected images to the destination folder\n",
    "    while i < len(all_images):\n",
    "        image = all_images[i]\n",
    "        patient_id = image.split('_')[1]\n",
    "        while True:\n",
    "            source_path = os.path.join(img_source_folder, image)\n",
    "            destination_path = os.path.join(destination_folder_img, image)\n",
    "            shutil.move(source_path, destination_path)\n",
    "            lab_image = image.split('.')[0] + '.png'\n",
    "            source_path = os.path.join(lab_source_folder, lab_image)\n",
    "            destination_path = os.path.join(destination_folder_lab, lab_image)\n",
    "            shutil.move(source_path, destination_path)\n",
    "            counter += 1\n",
    "            image = all_images[i + 1]\n",
    "            if image.split('_')[1] != patient_id:\n",
    "                break\n",
    "            i += 1\n",
    "        if counter >= num_images_to_move:\n",
    "            break\n",
    "        i += 1"
   ]
  },
  {
   "cell_type": "code",
   "execution_count": 19,
   "metadata": {},
   "outputs": [],
   "source": [
    "os.makedirs(\"./Final_Images\", exist_ok=True)"
   ]
  },
  {
   "cell_type": "code",
   "execution_count": null,
   "metadata": {},
   "outputs": [],
   "source": [
    "folder_names = ['A', 'B', 'C', 'D', 'E']\n",
    "for fn in folder_names:\n",
    "    destination_folder_img = './Final_Images/' + fn\n",
    "    destination_folder_lab = './Final_Images/' + fn + '_labels'\n",
    "    if not os.path.exists(destination_folder_img):\n",
    "        os.makedirs(destination_folder_img)\n",
    "\n",
    "    if not os.path.exists(destination_folder_lab):\n",
    "        os.makedirs(destination_folder_lab)\n",
    "\n",
    "    # Replace 'source_folder' and 'destination_folder' with your actual folder paths\n",
    "    img_source_folder = './Extracted/images/'\n",
    "    lab_source_folder = './Extracted/labels/'\n",
    "\n",
    "    # Specify the fraction of images to move (1/5 in this case)\n",
    "    num_images_to_move = 21\n",
    "\n",
    "    # Call the function to move random images\n",
    "    move_random_images(img_source_folder, lab_source_folder, destination_folder_img, destination_folder_lab, num_images_to_move)\n"
   ]
  },
  {
   "cell_type": "markdown",
   "metadata": {},
   "source": [
    "Resize images to 512x512"
   ]
  },
  {
   "cell_type": "code",
   "execution_count": 22,
   "metadata": {},
   "outputs": [],
   "source": [
    "def resize_images(input_directory, output_directory):\n",
    "    # Loop through each PNG file in the input directory\n",
    "    for filename in os.listdir(input_directory):\n",
    "        if filename.endswith(\".png\"):\n",
    "            # Open the original image\n",
    "            original_path = os.path.join(input_directory, filename)\n",
    "            original_image = Image.open(original_path)\n",
    "\n",
    "            # Resize the image to 512x512\n",
    "            resized_image = original_image.resize((512, 512))\n",
    "\n",
    "            # Save the resized image to the output directory\n",
    "            output_path = os.path.join(output_directory, filename)\n",
    "            resized_image.save(output_path)"
   ]
  },
  {
   "cell_type": "code",
   "execution_count": 23,
   "metadata": {},
   "outputs": [],
   "source": [
    "for fn in folder_names:\n",
    "    directory = \"./Final_Images/\" + fn\n",
    "    directory = \"./Final_Images/\" + fn\n",
    "    resize_images(directory, directory)"
   ]
  },
  {
   "cell_type": "code",
   "execution_count": 24,
   "metadata": {},
   "outputs": [],
   "source": [
    "for fn in folder_names:\n",
    "    directory = \"./Final_Images/\" + fn + \"_labels\"\n",
    "    directory = \"./Final_Images/\" + fn\n",
    "    resize_images(directory, directory)"
   ]
  }
 ],
 "metadata": {
  "kernelspec": {
   "display_name": "env",
   "language": "python",
   "name": "python3"
  },
  "language_info": {
   "codemirror_mode": {
    "name": "ipython",
    "version": 3
   },
   "file_extension": ".py",
   "mimetype": "text/x-python",
   "name": "python",
   "nbconvert_exporter": "python",
   "pygments_lexer": "ipython3",
   "version": "3.11.2"
  }
 },
 "nbformat": 4,
 "nbformat_minor": 2
}
